{
  "nbformat": 4,
  "nbformat_minor": 0,
  "metadata": {
    "colab": {
      "provenance": [],
      "gpuType": "T4",
      "authorship_tag": "ABX9TyNwomWQrEIYx3186NWjDuu5",
      "include_colab_link": true
    },
    "kernelspec": {
      "name": "python3",
      "display_name": "Python 3"
    },
    "language_info": {
      "name": "python"
    },
    "accelerator": "GPU"
  },
  "cells": [
    {
      "cell_type": "markdown",
      "metadata": {
        "id": "view-in-github",
        "colab_type": "text"
      },
      "source": [
        "<a href=\"https://colab.research.google.com/github/sharon504/ml-learning/blob/main/attention_is_all_you_need.ipynb\" target=\"_parent\"><img src=\"https://colab.research.google.com/assets/colab-badge.svg\" alt=\"Open In Colab\"/></a>"
      ]
    },
    {
      "cell_type": "code",
      "execution_count": null,
      "metadata": {
        "id": "HRi9SrJ2Jl1C"
      },
      "outputs": [],
      "source": [
        "import torch\n",
        "from torch.nn import functional as F\n",
        "import torch.nn as nn\n",
        "import matplotlib.pyplot as plt\n",
        "%matplotlib inline"
      ]
    },
    {
      "cell_type": "code",
      "source": [
        "!kaggle datasets download -d adarshpathak/shakespeare-text\n",
        "!rm text.txt\n",
        "!unzip shakespeare-text.zip\n",
        "!rm shakespeare-text.zip"
      ],
      "metadata": {
        "colab": {
          "base_uri": "https://localhost:8080/"
        },
        "id": "el9IBSBNLG8S",
        "outputId": "6746b8ef-9063-400d-c602-3f8ba27287a7"
      },
      "execution_count": null,
      "outputs": [
        {
          "output_type": "stream",
          "name": "stdout",
          "text": [
            "Dataset URL: https://www.kaggle.com/datasets/adarshpathak/shakespeare-text\n",
            "License(s): unknown\n",
            "Downloading shakespeare-text.zip to /content\n",
            "100% 432k/432k [00:00<00:00, 610kB/s]\n",
            "100% 432k/432k [00:00<00:00, 609kB/s]\n",
            "rm: cannot remove 'text.txt': No such file or directory\n",
            "Archive:  shakespeare-text.zip\n",
            "  inflating: text.txt                \n"
          ]
        }
      ]
    },
    {
      "cell_type": "code",
      "source": [
        "with open('text.txt', 'r', encoding='utf-8') as f:\n",
        "  text = f.read()\n",
        "stoi = {s: i for i, s in enumerate(sorted(list(set(text))))}\n",
        "itos = {i: s for s, i in stoi.items()}\n",
        "encode = lambda s: [stoi[char] for char in s]\n",
        "decode = lambda a: \"\".join([itos[i] for i in a])"
      ],
      "metadata": {
        "id": "NnnS5ux8MJJd"
      },
      "execution_count": null,
      "outputs": []
    },
    {
      "cell_type": "code",
      "source": [
        "batch_size = 256 # how many independent sequences will we process in parallel?\n",
        "block_size = 128 # what is the maximum context length for predictions?\n",
        "max_iters = 2500\n",
        "eval_interval = 1\n",
        "learning_rate = 1e-3\n",
        "device = 'cuda' if torch.cuda.is_available() else 'cpu'\n",
        "eval_iters = 250\n",
        "n_embd = 1024\n",
        "n_head = 16\n",
        "n_layer = 16\n",
        "dropout = 0.2\n",
        "vocab_size = len(stoi)"
      ],
      "metadata": {
        "id": "02O5mVS5NvZE"
      },
      "execution_count": null,
      "outputs": []
    },
    {
      "cell_type": "code",
      "source": [
        "data = torch.tensor(encode(text))"
      ],
      "metadata": {
        "id": "zV79-AlPPXZE"
      },
      "execution_count": null,
      "outputs": []
    },
    {
      "cell_type": "code",
      "source": [
        "n = int(0.9 * len(text))\n",
        "data_train = data[:n]\n",
        "data_val = data[n:]"
      ],
      "metadata": {
        "id": "A78KjkXhOzNZ"
      },
      "execution_count": null,
      "outputs": []
    },
    {
      "cell_type": "code",
      "source": [
        "def gen_batch(split):\n",
        "  data = data_train if split == 'train' else data_val\n",
        "  ix = torch.randint(len(data) - block_size, (batch_size,))\n",
        "  x = torch.stack([data[i:i+block_size] for i in ix])\n",
        "  y = torch.stack([data[i+1:i+block_size+1] for i in ix])\n",
        "  x, y = x.to(device), y.to(device)\n",
        "  return x, y"
      ],
      "metadata": {
        "id": "Cdi2nM7XOQ9M"
      },
      "execution_count": null,
      "outputs": []
    },
    {
      "cell_type": "code",
      "source": [
        "@torch.no_grad()\n",
        "def estimate_loss():\n",
        "    out = {}\n",
        "    model.eval()\n",
        "    for split in ['train', 'val']:\n",
        "        losses = torch.zeros(eval_iters)\n",
        "        for k in range(eval_iters):\n",
        "            X, Y = gen_batch(split)\n",
        "            logits, loss = model(X, Y)\n",
        "            losses[k] = loss.item()\n",
        "        out[split] = losses.mean()\n",
        "    model.train()\n",
        "    return out"
      ],
      "metadata": {
        "id": "0KzpIn3wBei2"
      },
      "execution_count": null,
      "outputs": []
    },
    {
      "cell_type": "code",
      "source": [
        "class SelfAttention(nn.Module):\n",
        "  def __init__(self, head_size):\n",
        "    super().__init__()\n",
        "    self.key = nn.Linear(n_embd, head_size)\n",
        "    self.query = nn.Linear(n_embd, head_size, bias=False)\n",
        "    self.value = nn.Linear(n_embd, head_size, bias=False)\n",
        "    self.register_buffer('tril', torch.tril(torch.ones(block_size, block_size)))\n",
        "    self.dropout = nn.Dropout(dropout)\n",
        "\n",
        "  def forward(self, x):\n",
        "    B, T, C = x.shape\n",
        "    wei = self.query(x) @ self.key(x).transpose(-2, -1) * C ** -0.5 # (B, T, C) @ (B, C, T) --> (B, T, T)\n",
        "    wei = wei.masked_fill(self.tril[:T, :T] == 0, float('-inf'))\n",
        "    wei = F.softmax(wei, dim=-1)\n",
        "    wei = self.dropout(wei)\n",
        "\n",
        "    out =  wei @ self.value(x) # (B, T, T) @ (B, T, C) --> (B, T, C)\n",
        "    return out"
      ],
      "metadata": {
        "id": "kPPlVa3YW3fM"
      },
      "execution_count": null,
      "outputs": []
    },
    {
      "cell_type": "code",
      "source": [
        "class MaskedMultiAttention(nn.Module):\n",
        "  def __init__(self, head_size, n_head):\n",
        "    super().__init__()\n",
        "    self.head_list = nn.ModuleList([SelfAttention(head_size) for _ in range(n_head)])\n",
        "    self.proj = nn.Linear(n_embd, n_embd, bias=False)\n",
        "    self.dropout = nn.Dropout(dropout)\n",
        "\n",
        "  def forward(self, x):\n",
        "    out = torch.cat([h(x) for h in self.head_list], dim=-1)\n",
        "    out = self.dropout(self.proj(out))\n",
        "    return out"
      ],
      "metadata": {
        "id": "vuy1WpkDdNPe"
      },
      "execution_count": null,
      "outputs": []
    },
    {
      "cell_type": "code",
      "source": [
        "class FeedForward(nn.Module):\n",
        "  def __init__(self):\n",
        "    super().__init__()\n",
        "    self.net = nn.Sequential(\n",
        "        nn.Linear(n_embd, 4 * n_embd, bias=False),\n",
        "        nn.ReLU(),\n",
        "        nn.Linear(4 * n_embd, n_embd, bias=False),\n",
        "        nn.Dropout(dropout),\n",
        "    )\n",
        "  def forward(self, x):\n",
        "    out = self.net(x)\n",
        "    return out"
      ],
      "metadata": {
        "id": "cTq3cRoj8j2T"
      },
      "execution_count": null,
      "outputs": []
    },
    {
      "cell_type": "code",
      "source": [
        "class Block(nn.Module):\n",
        "  def __init__(self):\n",
        "    super().__init__()\n",
        "    head_size = n_embd // n_head\n",
        "    self.sa = MaskedMultiAttention(head_size, n_head)\n",
        "    self.ff = FeedForward()\n",
        "    self.ln1 = nn.LayerNorm(n_embd)\n",
        "    self.ln2 = nn.LayerNorm(n_embd)\n",
        "\n",
        "  def forward(self, x):\n",
        "    x = x + self.sa(self.ln1(x))\n",
        "    x = x + self.ff(self.ln2(x))\n",
        "    out = x\n",
        "    return out\n"
      ],
      "metadata": {
        "id": "A7NLjps29ntG"
      },
      "execution_count": null,
      "outputs": []
    },
    {
      "cell_type": "code",
      "source": [
        "class TransformerModel(nn.Module):\n",
        "  def __init__(self):\n",
        "    super().__init__()\n",
        "    self.input_encoding = nn.Embedding(vocab_size, n_embd, device=device)\n",
        "    self.pos_encoding = nn.Embedding(block_size, n_embd, device=device)\n",
        "    self.block = nn.Sequential(*[Block() for _ in range(n_layer)])\n",
        "    self.l_nm = nn.LayerNorm(n_embd)\n",
        "    self.h_layer = nn.Linear(n_embd, vocab_size, bias=False, device=device)\n",
        "\n",
        "  def forward(self, idx, target=None):\n",
        "    B, T = idx.shape\n",
        "    h = self.input_encoding(idx)\n",
        "    x = h + self.pos_encoding(torch.arange(T, device=device))\n",
        "    x = self.block(x)\n",
        "    x = self.l_nm(x)\n",
        "    logits = self.h_layer(x)\n",
        "    if target is None:\n",
        "      loss = None\n",
        "    else:\n",
        "      B, T, C = logits.shape\n",
        "      target = target.view(B*T)\n",
        "      logits = logits.view(B*T, C)\n",
        "      loss = F.cross_entropy(logits, target)\n",
        "    return logits, loss\n",
        "\n",
        "  def generate(self, idx, max_new_tokens):\n",
        "          # idx is (B, T) array of indices in the current context\n",
        "          for _ in range(max_new_tokens):\n",
        "              # crop idx to the last block_size tokens\n",
        "              # print(idx.shape)\n",
        "              idx_cond = idx[:, -( 2 * block_size):].view(-1, block_size) if idx.shape[0] != 1 else idx[:, -block_size:]\n",
        "              # get the predictions\n",
        "              logits, loss = self(idx_cond)\n",
        "              # focus only on the last time step\n",
        "              logits = logits[:, -1, :] # becomes (B, C)\n",
        "              # apply softmax to get probabilities\n",
        "              probs = F.softmax(logits, dim=-1) # (B, C)\n",
        "              # sample from the distribution\n",
        "              idx_next = torch.multinomial(probs, num_samples=1) # (B, 1)\n",
        "              # append sampled index to the running sequence\n",
        "              idx = torch.cat((idx, idx_next), dim=1) # (B, T+1)\n",
        "          return idx\n",
        "\n",
        "model = TransformerModel()\n",
        "m = model.to(device)\n",
        "# print the number of parameters in the model\n",
        "print(sum(p.numel() for p in m.parameters())/1e6, 'M parameters')\n",
        "\n",
        "# create a PyTorch optimizer\n",
        "optimizer = torch.optim.AdamW(model.parameters(), lr=learning_rate)\n",
        "\n",
        "for iter in range(max_iters):\n",
        "\n",
        "    # every once in a while evaluate the loss on train and val sets\n",
        "    if iter % eval_interval == 0 or iter == max_iters - 1:\n",
        "        losses = estimate_loss()\n",
        "        print(f\"step {iter}: train loss {losses['train']:.4f}, val loss {losses['val']:.4f}\")\n",
        "\n",
        "    # sample a batch of data\n",
        "    xb, yb = gen_batch('train')\n",
        "\n",
        "    # evaluate the loss\n",
        "    logits, loss = model(xb, yb)\n",
        "    optimizer.zero_grad(set_to_none=True)\n",
        "    loss.backward()\n",
        "    optimizer.step()\n",
        "\n",
        "# generate from the model\n",
        "context = torch.zeros((1, 1), dtype=torch.long, device=device)\n",
        "print(decode(m.generate(context, max_new_tokens=2000)[0].tolist()))"
      ],
      "metadata": {
        "colab": {
          "base_uri": "https://localhost:8080/"
        },
        "id": "qPkBC2CCKcyk",
        "outputId": "627de4da-2b7f-412e-9423-41c6fdcd8411"
      },
      "execution_count": null,
      "outputs": [
        {
          "output_type": "stream",
          "name": "stdout",
          "text": [
            "201.674752 M parameters\n"
          ]
        }
      ]
    },
    {
      "cell_type": "code",
      "source": [
        "import os\n",
        "torch.save(model, './model.py')"
      ],
      "metadata": {
        "id": "fFQC7JbV2KMl"
      },
      "execution_count": null,
      "outputs": []
    },
    {
      "cell_type": "code",
      "source": [
        "torch.save(model.state_dict(), './model_state_dict.py')"
      ],
      "metadata": {
        "id": "XjocdrujK6IT"
      },
      "execution_count": null,
      "outputs": []
    },
    {
      "cell_type": "code",
      "source": [
        "ix = torch.randint(len(data_train) - block_size, (batch_size,))\n",
        "x = torch.stack([data_train[i: i+block_size] for i in ix])"
      ],
      "metadata": {
        "id": "LWVSRLA6LuRc"
      },
      "execution_count": null,
      "outputs": []
    },
    {
      "cell_type": "code",
      "source": [
        "x[1, -block_size:], x[1, :]"
      ],
      "metadata": {
        "colab": {
          "base_uri": "https://localhost:8080/"
        },
        "id": "06LNunYKce7n",
        "outputId": "00f90587-ffd3-4025-ce39-977519f0b0a6"
      },
      "execution_count": null,
      "outputs": [
        {
          "output_type": "execute_result",
          "data": {
            "text/plain": [
              "(tensor([ 1, 21,  1, 40, 59, 58,  1, 52, 53, 61,  1, 58, 46, 43,  1, 50, 53, 56,\n",
              "         42,  1, 53, 44,  1, 57, 59, 41, 46,  1, 46, 53, 58,  1]),\n",
              " tensor([ 1, 21,  1, 40, 59, 58,  1, 52, 53, 61,  1, 58, 46, 43,  1, 50, 53, 56,\n",
              "         42,  1, 53, 44,  1, 57, 59, 41, 46,  1, 46, 53, 58,  1]))"
            ]
          },
          "metadata": {},
          "execution_count": 12
        }
      ]
    },
    {
      "cell_type": "code",
      "source": [],
      "metadata": {
        "id": "B78x8ZgQcusT"
      },
      "execution_count": null,
      "outputs": []
    }
  ]
}